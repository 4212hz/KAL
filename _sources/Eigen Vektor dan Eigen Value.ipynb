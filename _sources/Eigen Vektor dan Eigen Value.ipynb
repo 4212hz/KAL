{
  "nbformat": 4,
  "nbformat_minor": 0,
  "metadata": {
    "colab": {
      "provenance": []
    },
    "kernelspec": {
      "name": "python3",
      "display_name": "Python 3"
    },
    "language_info": {
      "name": "python"
    }
  },
  "cells": [
    {
      "cell_type": "markdown",
      "source": [
        "# Definisi eigenvalue dan eigenvector\n",
        "eigenvalue adalah sebuah bilangan skalar dan eigenvector adalah sebuah matriks yang keduanya dapat mendifinisikan matriks A.\n",
        "\n",
        "1. Eigenvector (Vektor Eigen)\n",
        "Eigenvector adalah vektor tak-nol yang tidak berubah arahnya ketika dikalikan dengan suatu matriks. Artinya, ketika matriks\n",
        "A dikalikan dengan eigenvector\n",
        "v, hasilnya adalah vektor yang sama dengan\n",
        "v dikalikan suatu skalar.\n",
        "\n",
        "2. Eigenvalue (Nilai Eigen)\n",
        "Eigenvalue adalah skalar (λ) yang menunjukkan seberapa besar eigenvector direntangkan atau dipersingkat ketika dikalikan dengan matriks. Secara matematis, hubungan eigenvalue dan eigenvector dinyatakan sebagai:    \n",
        "\n",
        "Av=λv  \n",
        "\n",
        "di mana:\n",
        "\n",
        "A adalah matriks persegi (ukuran n×n),\n",
        "\n",
        "v adalah eigenvector (v≠0)\n",
        "\n",
        "λ adalah eigenvalue.  \n",
        "\n",
        "# Mencari eigenvalus dan eigenvectors\n",
        "Eigenvalues dan eigenvectors merupakan konsep fundamental dalam aljabar linear yang memiliki aplikasi luas di berbagai bidang, mulai dari fisika kuantum hingga machine learning. Secara esensial, keduanya menggambarkan bagaimana suatu transformasi linear memengaruhi vektor dalam ruang vektor.\n",
        "\n",
        "Eigenvalue (λ) merepresentasikan faktor skala, sementara eigenvector (v) adalah vektor tak-nol yang arahnya tidak berubah meskipun mengalami transformasi linear.  \n",
        "Eigenvalue (λ): Skalar yang menunjukkan faktor penskalaan suatu transformasi linear.  \n",
        "Eigenvector (v): Vektor tak-nol yang arahnya tidak berubah setelah transformasi linear.  \n",
        "Persamaan Fundamental:\n",
        "\n",
        "Av=λv  \n",
        "\n",
        "di mana A adalah matriks persegi.\n",
        "\n",
        "## Langkah-Langkah Perhitungan\n",
        "Persamaan Karakteristik:\n",
        "Untuk mencari eigenvalues, kita perlu menyelesaikan persamaan karakteristik:\n",
        "det⁡(A−λI)=0\n",
        "di mana I adalah matriks identitas dan ⁡\n",
        "det adalah determinan.\n",
        "\n",
        "Mencari Eigenvalues:\n",
        "Selesaikan persamaan karakteristik untuk mendapatkan nilai λ\n",
        "\n",
        "Mencari Eigenvectors:\n",
        "Untuk setiap eigenvalue λ, selesaikan sistem persamaan linear:\n",
        "(A−λI)v=0\n",
        "untuk mendapatkan eigenvector v yang sesuai.\n",
        "\n",
        "\n",
        "\n",
        "## Ortonormal menjadikan eigenvectors satu satuan\n",
        "Ortogonal adalah sifat dua vektor (atau objek matematika lainnya) yang saling tegak lurus (perpendicular) dalam suatu ruang vektor, yang berarti sudut di antara mereka adalah 90°. Secara formal:\n",
        "\n",
        "## Ortogonal\n",
        "Secara sederhana, dua vektor x dan y disebut \"ortogonal\" jika keduanya membentuk sudut 90 derajat satu sama lain.\n",
        "\n"
      ],
      "metadata": {
        "id": "e5bDrlMZA4Y7"
      }
    },
    {
      "cell_type": "code",
      "execution_count": null,
      "metadata": {
        "colab": {
          "base_uri": "https://localhost:8080/"
        },
        "id": "9O7qKczSAkTY",
        "outputId": "0462b2f3-610b-4d5d-d19d-2d967ef65f0b"
      },
      "outputs": [
        {
          "output_type": "stream",
          "name": "stdout",
          "text": [
            "EigResult(eigenvalues=array([3., 1.]), eigenvectors=array([[ 0.70710678, -0.70710678],\n",
            "       [ 0.70710678,  0.70710678]]))\n"
          ]
        }
      ],
      "source": [
        "import numpy as np\n",
        "A = np.array([[2,1],[1,2]])\n",
        "eigenvalues, eigenvectors = np.linalg.eig(A)\n",
        "\n",
        "print(np.linalg.eig(A))"
      ]
    },
    {
      "cell_type": "code",
      "source": [
        "import numpy as np\n",
        "\n",
        "# Contoh matriks persegi 2x2\n",
        "A = np.array([[8, -10],\n",
        "              [5, -7]])\n",
        "\n",
        "eigenvalues, eigenvectors = np.linalg.eig(A)\n",
        "\n",
        "print(\"Eigenvalues:\", eigenvalues)\n",
        "print(\"Eigenvectors:\\n\", eigenvectors)\n",
        "\n",
        "# print(np.linalg.eig(A))"
      ],
      "metadata": {
        "colab": {
          "base_uri": "https://localhost:8080/"
        },
        "id": "vKTJXbtGSvxt",
        "outputId": "45165b5a-3c21-4455-b591-de398eaabed9"
      },
      "execution_count": null,
      "outputs": [
        {
          "output_type": "stream",
          "name": "stdout",
          "text": [
            "Eigenvalues: [ 3. -2.]\n",
            "Eigenvectors:\n",
            " [[0.89442719 0.70710678]\n",
            " [0.4472136  0.70710678]]\n"
          ]
        }
      ]
    },
    {
      "cell_type": "markdown",
      "source": [
        "# Cara Menentukan Nilai EigenVektor dan EigenValue\n",
        "\n",
        "Menggunakan Rumus :\n",
        "\n",
        "Diberikan sebuah matriks $A$ berukuran $n \\times n$. Vektor eigen dan nilai eigen dari matriks $A$ dihitung sebagai berikut:\n",
        "\\begin{align*}\n",
        "Av &= \\lambda v \\\\\n",
        "(A - \\lambda I)v &= 0\n",
        "\\end{align*}\n",
        "\n",
        "Agar $(A - \\lambda I)v = 0$ memiliki solusi non-trivial (tidak nol), maka: $\\det(A - \\lambda I) = 0$\n",
        "\n",
        "Contoh Soal:\n",
        "\n",
        "Diberikan matriks:\n",
        "$\n",
        "A =\n",
        "\\begin{bmatrix}\n",
        "4 & 2 \\\\\n",
        "1 & 3\n",
        "\\end{bmatrix}\n",
        "$\n",
        "\n",
        "Menentukan Nilai-nilai Eigen:\n",
        "\n",
        "Langkah pertama, hitung determinan dari $(A - \\lambda I)$:\n",
        "$\n",
        "A - \\lambda I =\n",
        "\\begin{bmatrix}\n",
        "4 - \\lambda & 2 \\\\\n",
        "1 & 3 - \\lambda\n",
        "\\end{bmatrix}\n",
        "$\n",
        "\n",
        "Determinannya:\n",
        "\\begin{align*}\n",
        "\\det(A - \\lambda I) &= (4 - \\lambda)(3 - \\lambda) - (2)(1) \\\\\n",
        "&= \\lambda^2 - 7\\lambda + 10 = 0\n",
        "\\end{align*}\n",
        "\n",
        "Faktorkan:\n",
        "$\n",
        "(\\lambda - 5)(\\lambda - 2) = 0\n",
        "$\n",
        "\n",
        "Jadi, nilai-nilai eigen:\n",
        "$\n",
        "\\lambda_1 = 5,\\quad \\lambda_2 = 2\n",
        "$\n",
        "\n",
        "Menentukan Vektor Eigen:\n",
        "\n",
        "Untuk $\\lambda_1 = 5$:\n",
        "$\n",
        "A - 5I =\n",
        "\\begin{bmatrix}\n",
        "-1 & 2 \\\\\n",
        "1 & -2\n",
        "\\end{bmatrix}\n",
        "$\n",
        "\n",
        "Menyelesaikan $(A - 5I)v = 0$:\n",
        "$\n",
        "-1v_1 + 2v_2 = 0 \\Rightarrow v_1 = 2v_2\n",
        "$\n",
        "\n",
        "Vektor eigen:\n",
        "$\n",
        "v_1 =\n",
        "\\begin{bmatrix}\n",
        "2 \\\\\n",
        "1\n",
        "\\end{bmatrix}\n",
        "$\n",
        "\n",
        "Untuk $\\lambda_2 = 2$:\n",
        "$\n",
        "A - 2I =\n",
        "\\begin{bmatrix}\n",
        "2 & 2 \\\\\n",
        "1 & 1\n",
        "\\end{bmatrix}\n",
        "$\n",
        "\n",
        "Menyelesaikan $(A - 2I)v = 0$:\n",
        "$\n",
        "2v_1 + 2v_2 = 0 \\Rightarrow v_1 = -v_2\n",
        "$\n",
        "\n",
        "Vektor eigen:\n",
        "$\n",
        "v_2 =\n",
        "\\begin{bmatrix}\n",
        "-1 \\\\\n",
        "1\n",
        "\\end{bmatrix}\n",
        "$\n"
      ],
      "metadata": {
        "id": "bmkF1qN0RRxf"
      }
    }
  ]
}